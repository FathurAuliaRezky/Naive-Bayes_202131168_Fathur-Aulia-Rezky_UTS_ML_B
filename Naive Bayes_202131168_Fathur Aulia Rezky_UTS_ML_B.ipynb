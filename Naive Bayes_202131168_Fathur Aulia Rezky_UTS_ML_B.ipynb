{
 "cells": [
  {
   "cell_type": "markdown",
   "id": "d62b52c6",
   "metadata": {},
   "source": [
    "## Import Library"
   ]
  },
  {
   "cell_type": "code",
   "execution_count": 43,
   "id": "b86bab9e",
   "metadata": {},
   "outputs": [],
   "source": [
    "import pandas as pd\n",
    "from sklearn.naive_bayes import GaussianNB\n",
    "from sklearn.model_selection import train_test_split\n",
    "from sklearn.preprocessing import LabelEncoder"
   ]
  },
  {
   "cell_type": "markdown",
   "id": "65e2523b",
   "metadata": {},
   "source": [
    "Baris pertama merupakan import library yang digunakan dalam program ini. Library yang digunakan adalah pandas untuk membaca dataset, GaussianNB dari sklearn untuk membuat model Naive Bayes, train_test_split dari sklearn untuk membagi dataset menjadi data latih dan data uji, dan LabelEncoder dari sklearn untuk mengubah nilai-nilai kategorikal menjadi numerik."
   ]
  },
  {
   "cell_type": "markdown",
   "id": "15c62991",
   "metadata": {},
   "source": [
    "## Load dataset"
   ]
  },
  {
   "cell_type": "code",
   "execution_count": 44,
   "id": "98b1f850",
   "metadata": {},
   "outputs": [],
   "source": [
    "df = pd.read_csv('K04_bank_customers.csv', delimiter=';')"
   ]
  },
  {
   "cell_type": "markdown",
   "id": "89bb7c83",
   "metadata": {},
   "source": [
    "Baris kedua digunakan untuk membaca dataset K04_bank_customers.csv menggunakan pandas. Dataset ini memiliki delimiter (;) sebagai pemisah antar kolom."
   ]
  },
  {
   "cell_type": "markdown",
   "id": "2307906e",
   "metadata": {},
   "source": [
    "\n",
    "## Memproses data"
   ]
  },
  {
   "cell_type": "code",
   "execution_count": 45,
   "id": "47f104d2",
   "metadata": {},
   "outputs": [],
   "source": [
    "df = df.drop(['day', 'month', 'duration', 'campaign', 'pdays', 'previous', 'poutcome'], axis=1)"
   ]
  },
  {
   "cell_type": "markdown",
   "id": "c83c4f77",
   "metadata": {},
   "source": [
    "Baris ketiga digunakan untuk menghapus kolom yang tidak diperlukan pada dataset. Kolom yang dihapus adalah \"day\", \"month\", \"duration\", \"campaign\", \"pdays\", \"previous\", dan \"poutcome\"."
   ]
  },
  {
   "cell_type": "markdown",
   "id": "7d22fe84",
   "metadata": {},
   "source": [
    "## Mengubah kategorikal menjadi numerik"
   ]
  },
  {
   "cell_type": "code",
   "execution_count": 46,
   "id": "785c35cb",
   "metadata": {},
   "outputs": [],
   "source": [
    "le = LabelEncoder()\n",
    "df['job'] = le.fit_transform(df['job'])\n",
    "df['marital'] = le.fit_transform(df['marital'])\n",
    "df['education'] = le.fit_transform(df['education'])\n",
    "df['default'] = le.fit_transform(df['default'])\n",
    "df['housing'] = le.fit_transform(df['housing'])\n",
    "df['loan'] = le.fit_transform(df['loan'])\n",
    "df['contact'] = le.fit_transform(df['contact'])\n",
    "df['y'] = le.fit_transform(df['y'])\n"
   ]
  },
  {
   "cell_type": "markdown",
   "id": "5d17f95d",
   "metadata": {},
   "source": [
    "Baris keempat digunakan untuk mengubah nilai-nilai kategorikal pada dataset menjadi numerik menggunakan LabelEncoder dari sklearn. Setiap kolom yang memiliki nilai kategorikal diubah menjadi numerik."
   ]
  },
  {
   "cell_type": "markdown",
   "id": "ed8b1180",
   "metadata": {},
   "source": [
    "## Pisahkan kumpulan data menjadi pengujian train dan test"
   ]
  },
  {
   "cell_type": "code",
   "execution_count": 47,
   "id": "43e1ed17",
   "metadata": {},
   "outputs": [],
   "source": [
    "X = df.drop('y', axis=1)\n",
    "y = df['y']\n",
    "X_train, X_test, y_train, y_test = train_test_split(X, y, test_size=0.2, random_state=42)"
   ]
  },
  {
   "cell_type": "markdown",
   "id": "50262358",
   "metadata": {},
   "source": [
    "Baris kelima digunakan untuk memisahkan dataset menjadi data latih dan data uji. Kolom \"y\" dihapus dari data latih dan disimpan pada variabel y. Data latih dan data uji dibagi dengan perbandingan 80:20 menggunakan train_test_split dari sklearn."
   ]
  },
  {
   "cell_type": "markdown",
   "id": "77a27bef",
   "metadata": {},
   "source": [
    "## Latih model Naive Bayes"
   ]
  },
  {
   "cell_type": "code",
   "execution_count": 48,
   "id": "40a90fd7",
   "metadata": {},
   "outputs": [
    {
     "data": {
      "text/plain": [
       "GaussianNB()"
      ]
     },
     "execution_count": 48,
     "metadata": {},
     "output_type": "execute_result"
    }
   ],
   "source": [
    "nb = GaussianNB()\n",
    "nb.fit(X_train, y_train)"
   ]
  },
  {
   "cell_type": "markdown",
   "id": "39c9f9b2",
   "metadata": {},
   "source": [
    "Baris keenam digunakan untuk membuat model Naive Bayes menggunakan GaussianNB dari sklearn dan melatih model tersebut menggunakan data latih."
   ]
  },
  {
   "cell_type": "markdown",
   "id": "05cdd7e8",
   "metadata": {},
   "source": [
    "## Memprediksi data dan menghitung akurasi"
   ]
  },
  {
   "cell_type": "code",
   "execution_count": 49,
   "id": "f0d873f2",
   "metadata": {},
   "outputs": [
    {
     "name": "stdout",
     "output_type": "stream",
     "text": [
      "Accuracy: 0.8602233771978326\n"
     ]
    }
   ],
   "source": [
    "y_pred = nb.predict(X_test)\n",
    "accuracy = (y_pred == y_test).sum() / len(y_test)\n",
    "print('Accuracy:', accuracy)"
   ]
  },
  {
   "cell_type": "markdown",
   "id": "52a7f095",
   "metadata": {},
   "source": [
    "Baris dan baris terakhir digunakan untuk melakukan prediksi pada data uji menggunakan model Naive Bayes yang telah dilatih. Akurasi hasil olahan data dihitung dengan membandingkan prediksi yang dihasilkan oleh model dengan nilai sebenarnya pada data uji. Hasil akurasi akan ditampilkan pada output program."
   ]
  },
  {
   "cell_type": "code",
   "execution_count": null,
   "id": "5655cc50",
   "metadata": {},
   "outputs": [],
   "source": []
  }
 ],
 "metadata": {
  "kernelspec": {
   "display_name": "Python 3 (ipykernel)",
   "language": "python",
   "name": "python3"
  },
  "language_info": {
   "codemirror_mode": {
    "name": "ipython",
    "version": 3
   },
   "file_extension": ".py",
   "mimetype": "text/x-python",
   "name": "python",
   "nbconvert_exporter": "python",
   "pygments_lexer": "ipython3",
   "version": "3.9.13"
  }
 },
 "nbformat": 4,
 "nbformat_minor": 5
}
